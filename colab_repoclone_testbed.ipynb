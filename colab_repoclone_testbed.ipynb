{
  "nbformat": 4,
  "nbformat_minor": 0,
  "metadata": {
    "colab": {
      "name": "colab_repoclone_testbed.ipynb",
      "version": "0.3.2",
      "provenance": [],
      "collapsed_sections": [],
      "include_colab_link": true
    },
    "kernelspec": {
      "name": "python3",
      "display_name": "Python 3"
    }
  },
  "cells": [
    {
      "cell_type": "markdown",
      "metadata": {
        "id": "view-in-github",
        "colab_type": "text"
      },
      "source": [
        "<a href=\"https://colab.research.google.com/github/apolitical/colab-repoclone/blob/master/colab_repoclone_testbed.ipynb\" target=\"_parent\"><img src=\"https://colab.research.google.com/assets/colab-badge.svg\" alt=\"Open In Colab\"/></a>"
      ]
    },
    {
      "cell_type": "markdown",
      "metadata": {
        "id": "AWwhHCnYZRD-",
        "colab_type": "text"
      },
      "source": [
        "colab-repoclone-testbed\n",
        "===================\n",
        "\n",
        "A Google Colab notebook for verifying that the `colab-repoclone` module works as intended in the real world!"
      ]
    },
    {
      "cell_type": "markdown",
      "metadata": {
        "id": "PZRKJqYnZcNR",
        "colab_type": "text"
      },
      "source": [
        "First you'll have to install the latest version of the library on [PyPI](https://pypi.org/project/colab-repoclone/) using `pip`."
      ]
    },
    {
      "cell_type": "code",
      "metadata": {
        "id": "a4fjjh4MDL-N",
        "colab_type": "code",
        "outputId": "b4b9ff9d-4850-44fb-f43a-efba1ae6016d",
        "colab": {
          "base_uri": "https://localhost:8080/",
          "height": 51
        }
      },
      "source": [
        "!pip install colab-repoclone -qU"
      ],
      "execution_count": 1,
      "outputs": [
        {
          "output_type": "stream",
          "text": [
            "  Building wheel for colab-repoclone (setup.py) ... \u001b[?25l\u001b[?25hdone\n",
            "  Building wheel for colab-env (setup.py) ... \u001b[?25l\u001b[?25hdone\n"
          ],
          "name": "stdout"
        }
      ]
    },
    {
      "cell_type": "markdown",
      "metadata": {
        "id": "LXn-nBkNZiGw",
        "colab_type": "text"
      },
      "source": [
        "Importing the library should set everything up. If your Google Drive isn't already mounted, you'll have to complete an authentication flow. Otherwise it'll probably warn you that the drive is already mounted.\n",
        "\n",
        "The `import` statement ought to have loaded everything in `colab_repoclone/__init__.py`. This includes a method, `colab_repoclone.clone_repository()` for cloning a specified GitHub repo into your Google Colab environment.\n",
        "\n",
        "If you don't have `vars.env` in your Google Drive, any empty one will be created at this point by the `colab_env` package. Otherwise, the variables will be loaded into the environment."
      ]
    },
    {
      "cell_type": "code",
      "metadata": {
        "id": "7MTVkAbUDWD-",
        "colab_type": "code",
        "outputId": "cfecf691-42c8-4892-ddb5-e288972a6b6a",
        "colab": {
          "base_uri": "https://localhost:8080/",
          "height": 122
        }
      },
      "source": [
        "import colab_repoclone"
      ],
      "execution_count": 2,
      "outputs": [
        {
          "output_type": "stream",
          "text": [
            "Go to this URL in a browser: https://accounts.google.com/o/oauth2/auth?client_id=947318989803-6bn6qk8qdgf4n4g3pfee6491hc0brc4i.apps.googleusercontent.com&redirect_uri=urn%3Aietf%3Awg%3Aoauth%3A2.0%3Aoob&scope=email%20https%3A%2F%2Fwww.googleapis.com%2Fauth%2Fdocs.test%20https%3A%2F%2Fwww.googleapis.com%2Fauth%2Fdrive%20https%3A%2F%2Fwww.googleapis.com%2Fauth%2Fdrive.photos.readonly%20https%3A%2F%2Fwww.googleapis.com%2Fauth%2Fpeopleapi.readonly&response_type=code\n",
            "\n",
            "Enter your authorization code:\n",
            "··········\n",
            "Mounted at /content/gdrive\n"
          ],
          "name": "stdout"
        }
      ]
    },
    {
      "cell_type": "markdown",
      "metadata": {
        "id": "6xBBAD-RZpwW",
        "colab_type": "text"
      },
      "source": [
        "\n",
        "\n",
        "If all has gone to plan we ought to be able to access the module's `__version__`:"
      ]
    },
    {
      "cell_type": "code",
      "metadata": {
        "id": "srNcKnEIXZ8x",
        "colab_type": "code",
        "colab": {
          "base_uri": "https://localhost:8080/",
          "height": 34
        },
        "outputId": "79b88248-6601-44a5-8d43-e20f2dd4a849"
      },
      "source": [
        "colab_repoclone.__version__"
      ],
      "execution_count": 3,
      "outputs": [
        {
          "output_type": "execute_result",
          "data": {
            "text/plain": [
              "'0.1.1'"
            ]
          },
          "metadata": {
            "tags": []
          },
          "execution_count": 3
        }
      ]
    },
    {
      "cell_type": "markdown",
      "metadata": {
        "id": "i6WS_wS5aOrQ",
        "colab_type": "text"
      },
      "source": [
        "Now, we can try to clone a repository using the `clone_repository()` method. This method takes one input and two keywords.\n",
        "\n",
        "The input is the link to the GitHub repository you wish to clone and edit (you *must* have proper permissions if you wish to push to this repo). The first keyword, `branch`, allows the user to specify a branch to clone and defaults to \"master\" if none is indicated. \n",
        "\n",
        "The second keyword, `method`, specifies the method of authentication. This defaults to \"env\" which will look in the `vars.env` file loaded by `colab_env` for the following environment variables: `GITHUB_KEY`, `USER_NAME`, `USER_EMAIL` - i.e. your GitHub personal access token that gives you permission to edit the specified repo, your GitHub username and the email linked to your GitHub account. We can check the existence of these environment variables as follows:\n"
      ]
    },
    {
      "cell_type": "code",
      "metadata": {
        "id": "VYFXu1noceS5",
        "colab_type": "code",
        "colab": {
          "base_uri": "https://localhost:8080/",
          "height": 34
        },
        "outputId": "d5f15ac3-fca9-4727-9b77-f7bd9613f6d0"
      },
      "source": [
        "import os\n",
        "print(os.getenv(\"USER_NAME\"),os.getenv(\"USER_EMAIL\"))\n",
        "\n",
        "# NB: I have not retrieved the GITHUB_KEY as Google Colab stores the output of\n",
        "# cells and GitHub will not allow pushing of a file that contains a visible and\n",
        "# valid GitHub access code in it."
      ],
      "execution_count": 4,
      "outputs": [
        {
          "output_type": "stream",
          "text": [
            "jordanml7 lueck.jordan@gmail.com\n"
          ],
          "name": "stdout"
        }
      ]
    },
    {
      "cell_type": "markdown",
      "metadata": {
        "id": "cnWNGMA7cqZ7",
        "colab_type": "text"
      },
      "source": [
        "If these environment variables do not exist it will throw an error indicating so. Alternatively, the `method` keyword can be set to anything other than \"env\" and the user will instead be prompted to enter their valid GitHub username, email and authorization token.\n",
        "\n",
        "Let's try doing that with the `testbed` branch of this very repository. When prompted to enter your various authentication strings you can just enter garbage - the repository will still clone but you will not have `push` permissions. Alternatively, replace the repo link with your own to confirm you can `push` to it!"
      ]
    },
    {
      "cell_type": "code",
      "metadata": {
        "id": "sOc4k4_vGGKA",
        "colab_type": "code",
        "colab": {
          "base_uri": "https://localhost:8080/",
          "height": 68
        },
        "outputId": "5be9c9a4-1eb7-4bb3-b840-db7d6c1fc0f6"
      },
      "source": [
        "my_repo = colab_repoclone.clone_repository(\"https://github.com/apolitical/colab-repoclone\",branch=\"testbed\",method=\"input\")"
      ],
      "execution_count": 5,
      "outputs": [
        {
          "output_type": "stream",
          "text": [
            "Enter your GitHub Username: jordanml7\n",
            "Enter your GitHub Email: lueck.jordan@gmail.com\n",
            "Enter your GitHub Authorization Token: ··········\n"
          ],
          "name": "stdout"
        }
      ]
    },
    {
      "cell_type": "markdown",
      "metadata": {
        "id": "NDN7fztKeKJb",
        "colab_type": "text"
      },
      "source": [
        "You can clone as many repositories as you want by calling the above command for each! The repo directories will be placed into the Google Colab `/content` directory and the methods for each can be accessed by referencing their respective object, such as `my_repo.push()` or `my_repo.pull()`.\n",
        "\n",
        "Let's confirm that our repo name got set correctly:"
      ]
    },
    {
      "cell_type": "code",
      "metadata": {
        "id": "i1KsqJbDeJQY",
        "colab_type": "code",
        "colab": {
          "base_uri": "https://localhost:8080/",
          "height": 34
        },
        "outputId": "c87f816c-7d86-4fc6-a14d-c2664fda9d27"
      },
      "source": [
        "my_repo.repo_name"
      ],
      "execution_count": 6,
      "outputs": [
        {
          "output_type": "execute_result",
          "data": {
            "text/plain": [
              "'colab-repoclone'"
            ]
          },
          "metadata": {
            "tags": []
          },
          "execution_count": 6
        }
      ]
    },
    {
      "cell_type": "markdown",
      "metadata": {
        "id": "WwoI_rKKfqd-",
        "colab_type": "text"
      },
      "source": [
        "You can also confirm that the link to the repo on GitHub is correct by calling `my_repo.access_repo`, however this link contains our access token so I will not do so here.\n",
        "\n",
        "Let's check that we properly pulled the `testbed` branch:"
      ]
    },
    {
      "cell_type": "code",
      "metadata": {
        "id": "nJ12iz79fkCu",
        "colab_type": "code",
        "colab": {
          "base_uri": "https://localhost:8080/",
          "height": 34
        },
        "outputId": "451e7507-6b0f-4433-88c1-6f62844ca706"
      },
      "source": [
        "my_repo.branch"
      ],
      "execution_count": 7,
      "outputs": [
        {
          "output_type": "execute_result",
          "data": {
            "text/plain": [
              "'testbed'"
            ]
          },
          "metadata": {
            "tags": []
          },
          "execution_count": 7
        }
      ]
    },
    {
      "cell_type": "markdown",
      "metadata": {
        "id": "4psPSsEsf5_5",
        "colab_type": "text"
      },
      "source": [
        "And while we're at it, let's confirm that our username and email got set correctly:"
      ]
    },
    {
      "cell_type": "code",
      "metadata": {
        "id": "J0Ycv3SGgEIW",
        "colab_type": "code",
        "colab": {
          "base_uri": "https://localhost:8080/",
          "height": 34
        },
        "outputId": "a05b207b-466f-4290-866f-d90fda8304ff"
      },
      "source": [
        "print(my_repo.github_user, my_repo.github_email)"
      ],
      "execution_count": 8,
      "outputs": [
        {
          "output_type": "stream",
          "text": [
            "jordanml7 lueck.jordan@gmail.com\n"
          ],
          "name": "stdout"
        }
      ]
    },
    {
      "cell_type": "markdown",
      "metadata": {
        "id": "OIkyAs3JgPma",
        "colab_type": "text"
      },
      "source": [
        "Finally, although you've probably seen it in the `Files` sidebar by now (if not, click `REFRESH`), let's confirm that our repo is now in our Colab environment:"
      ]
    },
    {
      "cell_type": "code",
      "metadata": {
        "id": "aozNaTTXgd4s",
        "colab_type": "code",
        "colab": {
          "base_uri": "https://localhost:8080/",
          "height": 34
        },
        "outputId": "aab162ce-c04e-4a87-ae84-76b39952ff41"
      },
      "source": [
        "!ls /content/"
      ],
      "execution_count": 9,
      "outputs": [
        {
          "output_type": "stream",
          "text": [
            "colab-repoclone  gdrive  sample_data\n"
          ],
          "name": "stdout"
        }
      ]
    },
    {
      "cell_type": "markdown",
      "metadata": {
        "id": "vhr-bhtggg2M",
        "colab_type": "text"
      },
      "source": [
        "There it is, `colab-repoclone` (or your own repo if you've changed it)! Wooo!\n",
        "\n",
        "Now you can make any changes you want to the files in `colab-repoclone`, including adding and deleting files. Let's create a dummy file that we'll throw in there:"
      ]
    },
    {
      "cell_type": "code",
      "metadata": {
        "id": "33Ldgu6egqLp",
        "colab_type": "code",
        "colab": {}
      },
      "source": [
        "dummy = open(\"dummy.txt\",\"w+\")\n",
        "\n",
        "for i in range(10):\n",
        "     dummy.write(\"This is test!\\n\")\n",
        "    \n",
        "dummy.close()"
      ],
      "execution_count": 0,
      "outputs": []
    },
    {
      "cell_type": "markdown",
      "metadata": {
        "id": "vDDv7XxuiHXC",
        "colab_type": "text"
      },
      "source": [
        "And now that we've made that *very* import file, let's move it into our repository:"
      ]
    },
    {
      "cell_type": "code",
      "metadata": {
        "id": "WcSbK4soiQZ7",
        "colab_type": "code",
        "colab": {}
      },
      "source": [
        "!mv /content/dummy.txt /content/colab-repoclone/.\n",
        "\n",
        "# Obviously you may have to change the path here if you're using your own repo"
      ],
      "execution_count": 0,
      "outputs": []
    },
    {
      "cell_type": "markdown",
      "metadata": {
        "id": "SoEXf8i-l9ym",
        "colab_type": "text"
      },
      "source": [
        "Let's confirm that it's in there:"
      ]
    },
    {
      "cell_type": "code",
      "metadata": {
        "id": "yQtd9eTOl_kq",
        "colab_type": "code",
        "colab": {
          "base_uri": "https://localhost:8080/",
          "height": 51
        },
        "outputId": "b04dfb0a-4189-4a79-b6d1-69ec1e089d0c"
      },
      "source": [
        "!ls /content/colab-repoclone/"
      ],
      "execution_count": 12,
      "outputs": [
        {
          "output_type": "stream",
          "text": [
            "CHANGELOG.md\t dummy.txt  MANIFEST.in  README.md\n",
            "colab_repoclone  LICENSE    Pipfile\t setup.py\n"
          ],
          "name": "stdout"
        }
      ]
    },
    {
      "cell_type": "markdown",
      "metadata": {
        "id": "8UoeQarBin8Q",
        "colab_type": "text"
      },
      "source": [
        "There it is! We can now push our changes using `colab_repoclone`'s own `push` method!\n",
        "\n",
        "If you're using the `colab-repoclone` repository, this will not work for you, as you do not have permission to push to it. Instead, you'll likely get a message saying:\n",
        "\n",
        "`Command: < git push > failed. Check your permissions.`\n",
        "\n",
        "But that's not a problem for me, because I *do* have permissions! The `push` method allows for two keywords: `commit_msg`, which is pretty self explanatory (and defaults to a generic message), and `file_path`, which can be used to specify that you only want to push files in a certain directory *within* your repo. This defaults to all files, i.e. `\".\"`\n",
        "\n",
        "Let's try it:"
      ]
    },
    {
      "cell_type": "code",
      "metadata": {
        "id": "-2gggoFKjRUH",
        "colab_type": "code",
        "colab": {}
      },
      "source": [
        "my_repo.push(commit_msg=\"Pushing to a repo from INSIDE the repo, meta...\")"
      ],
      "execution_count": 0,
      "outputs": []
    },
    {
      "cell_type": "markdown",
      "metadata": {
        "id": "eobH4bBpkTL0",
        "colab_type": "text"
      },
      "source": [
        "Well, I didn't get any error messages, but you may have!\n",
        "\n",
        "Now, because I don't want a stupid dummy file in my lovely repository (and because this tutorial relies on that file not existing initially), lets remove `dummy.txt` and push again!"
      ]
    },
    {
      "cell_type": "code",
      "metadata": {
        "id": "5nR5ots3kllX",
        "colab_type": "code",
        "colab": {}
      },
      "source": [
        "!rm /content/colab-repoclone/dummy.txt"
      ],
      "execution_count": 0,
      "outputs": []
    },
    {
      "cell_type": "code",
      "metadata": {
        "id": "8GMPB45WluUc",
        "colab_type": "code",
        "colab": {
          "base_uri": "https://localhost:8080/",
          "height": 51
        },
        "outputId": "5d6657aa-e130-4567-f3e6-a3c817372315"
      },
      "source": [
        "!ls /content/colab-repoclone/"
      ],
      "execution_count": 16,
      "outputs": [
        {
          "output_type": "stream",
          "text": [
            "CHANGELOG.md\t LICENSE      Pipfile\t setup.py\n",
            "colab_repoclone  MANIFEST.in  README.md\n"
          ],
          "name": "stdout"
        }
      ]
    },
    {
      "cell_type": "markdown",
      "metadata": {
        "id": "5icygdeYmTHS",
        "colab_type": "text"
      },
      "source": [
        "And voila, it's gone."
      ]
    },
    {
      "cell_type": "code",
      "metadata": {
        "id": "WDi9KaXBk6yc",
        "colab_type": "code",
        "colab": {}
      },
      "source": [
        "my_repo.push(commit_msg=\"Annnddddd now its gone.\")"
      ],
      "execution_count": 0,
      "outputs": []
    },
    {
      "cell_type": "markdown",
      "metadata": {
        "id": "tpyjgLbaoONF",
        "colab_type": "text"
      },
      "source": [
        "Well that was satisfying. Currently, the only other Git functionality this package offers is `pull`, which allows you to pull changes to your repo if any were made elsewhere while you were running your notebook. Since all runtimes reset upon each load a notebook, you will need to \"reclone\" your repo each time you open and run your Colab notebook, so pulling will rarely be necessary.\n",
        "\n",
        "And that's all! Have fun and feel free to email me with questions or if you'd like to see any new functionality in a future release!"
      ]
    }
  ]
}