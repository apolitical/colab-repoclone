{
  "nbformat": 4,
  "nbformat_minor": 0,
  "metadata": {
    "colab": {
      "name": "colab_repoclone_testbed.ipynb",
      "version": "0.3.2",
      "provenance": [],
      "collapsed_sections": [],
      "include_colab_link": true
    },
    "kernelspec": {
      "name": "python3",
      "display_name": "Python 3"
    }
  },
  "cells": [
    {
      "cell_type": "markdown",
      "metadata": {
        "id": "view-in-github",
        "colab_type": "text"
      },
      "source": [
        "<a href=\"https://colab.research.google.com/github/apolitical/colab-repoclone/blob/master/colab_repoclone_testbed.ipynb\" target=\"_parent\"><img src=\"https://colab.research.google.com/assets/colab-badge.svg\" alt=\"Open In Colab\"/></a>"
      ]
    },
    {
      "cell_type": "markdown",
      "metadata": {
        "id": "AWwhHCnYZRD-",
        "colab_type": "text"
      },
      "source": [
        "colab-repoclone-testbed\n",
        "===================\n",
        "\n",
        "A Google Colab notebook for verifying that the `colab-repoclone` module works as intended in the real world!"
      ]
    },
    {
      "cell_type": "markdown",
      "metadata": {
        "id": "PZRKJqYnZcNR",
        "colab_type": "text"
      },
      "source": [
        "First you'll have to install the latest version of the library on [PyPI](https://pypi.org/project/colab-repoclone/) using `pip`."
      ]
    },
    {
      "cell_type": "code",
      "metadata": {
        "id": "a4fjjh4MDL-N",
        "colab_type": "code",
        "colab": {
          "base_uri": "https://localhost:8080/",
          "height": 51
        },
        "outputId": "3876b265-deb7-4384-b5ba-f863a94d656f"
      },
      "source": [
        "!pip install colab-repoclone -qU"
      ],
      "execution_count": 1,
      "outputs": [
        {
          "output_type": "stream",
          "text": [
            "  Building wheel for colab-repoclone (setup.py) ... \u001b[?25l\u001b[?25hdone\n",
            "  Building wheel for colab-env (setup.py) ... \u001b[?25l\u001b[?25hdone\n"
          ],
          "name": "stdout"
        }
      ]
    },
    {
      "cell_type": "markdown",
      "metadata": {
        "id": "LXn-nBkNZiGw",
        "colab_type": "text"
      },
      "source": [
        "Importing the library should set everything up. If your Google Drive isn't already mounted, you'll have to complete an authentication flow. Otherwise it'll probably warn you that the drive is already mounted.\n",
        "\n",
        "The `import` statement ought to have loaded everything in `colab_repoclone/__init__.py`. This includes a method, `colab_repoclone.local_repository()` for either cloning a specified GitHub repo into your Google Colab environment or initializing a new GitHub repo *from* your Google Colab environment.\n",
        "\n",
        "If you don't have `vars.env` in your Google Drive, any empty one will be created at this point by the `colab_env` package. Otherwise, the variables will be loaded into the environment."
      ]
    },
    {
      "cell_type": "code",
      "metadata": {
        "id": "7MTVkAbUDWD-",
        "colab_type": "code",
        "colab": {
          "base_uri": "https://localhost:8080/",
          "height": 122
        },
        "outputId": "fc6d7eb1-24bf-477a-f942-a6ffeee2f190"
      },
      "source": [
        "import colab_repoclone"
      ],
      "execution_count": 2,
      "outputs": [
        {
          "output_type": "stream",
          "text": [
            "Go to this URL in a browser: https://accounts.google.com/o/oauth2/auth?client_id=947318989803-6bn6qk8qdgf4n4g3pfee6491hc0brc4i.apps.googleusercontent.com&redirect_uri=urn%3Aietf%3Awg%3Aoauth%3A2.0%3Aoob&scope=email%20https%3A%2F%2Fwww.googleapis.com%2Fauth%2Fdocs.test%20https%3A%2F%2Fwww.googleapis.com%2Fauth%2Fdrive%20https%3A%2F%2Fwww.googleapis.com%2Fauth%2Fdrive.photos.readonly%20https%3A%2F%2Fwww.googleapis.com%2Fauth%2Fpeopleapi.readonly&response_type=code\n",
            "\n",
            "Enter your authorization code:\n",
            "··········\n",
            "Mounted at /content/gdrive\n"
          ],
          "name": "stdout"
        }
      ]
    },
    {
      "cell_type": "markdown",
      "metadata": {
        "id": "6xBBAD-RZpwW",
        "colab_type": "text"
      },
      "source": [
        "\n",
        "\n",
        "If all has gone to plan we ought to be able to access the module's `__version__`:"
      ]
    },
    {
      "cell_type": "code",
      "metadata": {
        "id": "srNcKnEIXZ8x",
        "colab_type": "code",
        "colab": {
          "base_uri": "https://localhost:8080/",
          "height": 34
        },
        "outputId": "099e50d6-95bf-4785-cf54-255a2ba66ab1"
      },
      "source": [
        "colab_repoclone.__version__"
      ],
      "execution_count": 3,
      "outputs": [
        {
          "output_type": "execute_result",
          "data": {
            "text/plain": [
              "'0.2.3'"
            ]
          },
          "metadata": {
            "tags": []
          },
          "execution_count": 3
        }
      ]
    },
    {
      "cell_type": "markdown",
      "metadata": {
        "id": "i6WS_wS5aOrQ",
        "colab_type": "text"
      },
      "source": [
        "Now, we can try to clone or create a new repository using the `local_repository()` method. This method takes one input and three keywords.\n",
        "\n",
        "The input is the link to the GitHub repository for cloning or the empty GitHub repo for initializing (you *must* have proper permissions if you wish to push to a repo).\n",
        "\n",
        "The first keyword, `clone`, defaults to **True**, and the package will thus assume you are cloning an existing repository. If it is changed to **False** you must have a local directory that you wish to initialize and upload to GitHub as a new repository.\n",
        "\n",
        "The second keyword, `branch`, allows the user to specify a branch to clone and defaults to \"master\" if none is indicated or if `clone=False`.\n",
        "\n",
        "The third keyword, `auth_method`, specifies the method of authentication. This defaults to \"env\" which will look in the `vars.env` file loaded by `colab_env` for the following environment variables: `GITHUB_KEY`, `USER_NAME`, `USER_EMAIL` - i.e. your GitHub personal access token that gives you permission to edit the specified repo, your GitHub username and the email linked to your GitHub account. We can check the existence of these environment variables as follows:\n"
      ]
    },
    {
      "cell_type": "code",
      "metadata": {
        "id": "VYFXu1noceS5",
        "colab_type": "code",
        "colab": {
          "base_uri": "https://localhost:8080/",
          "height": 34
        },
        "outputId": "43208db8-5d9a-4f26-c1d8-fb91aea9e1d7"
      },
      "source": [
        "import os\n",
        "print(os.getenv(\"USER_NAME\"),os.getenv(\"USER_EMAIL\"))\n",
        "\n",
        "# NB: I have not retrieved the GITHUB_KEY as Google Colab stores the output of\n",
        "# cells and GitHub will not allow pushing of a file that contains a visible and\n",
        "# valid GitHub access code in it."
      ],
      "execution_count": 4,
      "outputs": [
        {
          "output_type": "stream",
          "text": [
            "jordanml7 lueck.jordan@gmail.com\n"
          ],
          "name": "stdout"
        }
      ]
    },
    {
      "cell_type": "markdown",
      "metadata": {
        "id": "cnWNGMA7cqZ7",
        "colab_type": "text"
      },
      "source": [
        "If these environment variables do not exist it will throw an error indicating so. \n",
        "\n",
        "Alternatively, the `auth_method` keyword can be set to anything other than \"env\" and the user will instead be prompted to enter their valid GitHub username, email and authorization token."
      ]
    },
    {
      "cell_type": "markdown",
      "metadata": {
        "id": "5qpZzlQLYpNy",
        "colab_type": "text"
      },
      "source": [
        "## Cloning an existing repository\n",
        "\n",
        "Let's try cloning an existing repository first. How about the `testbed` branch of this very repository?"
      ]
    },
    {
      "cell_type": "markdown",
      "metadata": {
        "id": "owU3CV_KHNR3",
        "colab_type": "text"
      },
      "source": [
        "When prompted to enter your various authentication strings you can just enter garbage - the repository will still clone but you will not have `push` permissions. Alternatively, replace the repo link with your own to confirm you can `push` to it!"
      ]
    },
    {
      "cell_type": "code",
      "metadata": {
        "id": "sOc4k4_vGGKA",
        "colab_type": "code",
        "colab": {
          "base_uri": "https://localhost:8080/",
          "height": 68
        },
        "outputId": "4ad003c8-5538-46fc-8606-a0864242bc17"
      },
      "source": [
        "my_clone = colab_repoclone.local_repository(\"https://github.com/apolitical/colab-repoclone\",clone=True,branch=\"testbed\",auth_method=\"input\")"
      ],
      "execution_count": 5,
      "outputs": [
        {
          "output_type": "stream",
          "text": [
            "GitHub Username :: jordanml7\n",
            "GitHub Email :: lueck.jordan@gmail.com\n",
            "GitHub Authorization Token :: ··········\n"
          ],
          "name": "stdout"
        }
      ]
    },
    {
      "cell_type": "markdown",
      "metadata": {
        "id": "NDN7fztKeKJb",
        "colab_type": "text"
      },
      "source": [
        "You can clone as many repositories as you want by calling the above command for each! The repo directories will be placed into the Google Colab `/content` directory and the methods for each can be accessed by referencing their respective object, such as `my_clone.push()` or `my_clone.pull()`.\n",
        "\n",
        "Let's confirm that our repo name got set correctly:"
      ]
    },
    {
      "cell_type": "code",
      "metadata": {
        "id": "i1KsqJbDeJQY",
        "colab_type": "code",
        "colab": {
          "base_uri": "https://localhost:8080/",
          "height": 34
        },
        "outputId": "b26468fb-f8d7-4bf6-d83e-a08ebb861b6f"
      },
      "source": [
        "my_clone.repo_dir"
      ],
      "execution_count": 6,
      "outputs": [
        {
          "output_type": "execute_result",
          "data": {
            "text/plain": [
              "'colab-repoclone'"
            ]
          },
          "metadata": {
            "tags": []
          },
          "execution_count": 6
        }
      ]
    },
    {
      "cell_type": "markdown",
      "metadata": {
        "id": "WwoI_rKKfqd-",
        "colab_type": "text"
      },
      "source": [
        "You can also confirm that the link to the repo on GitHub is correct by calling `my_clone.access_repo`, however this link contains our access token so I will not do so here.\n",
        "\n",
        "Let's check that we properly pulled the `testbed` branch:"
      ]
    },
    {
      "cell_type": "code",
      "metadata": {
        "id": "nJ12iz79fkCu",
        "colab_type": "code",
        "colab": {
          "base_uri": "https://localhost:8080/",
          "height": 34
        },
        "outputId": "5b060d78-7ac5-426c-e281-f65eb129b462"
      },
      "source": [
        "my_clone.branch"
      ],
      "execution_count": 7,
      "outputs": [
        {
          "output_type": "execute_result",
          "data": {
            "text/plain": [
              "'testbed'"
            ]
          },
          "metadata": {
            "tags": []
          },
          "execution_count": 7
        }
      ]
    },
    {
      "cell_type": "markdown",
      "metadata": {
        "id": "4psPSsEsf5_5",
        "colab_type": "text"
      },
      "source": [
        "And while we're at it, let's confirm that our username and email got set correctly:"
      ]
    },
    {
      "cell_type": "code",
      "metadata": {
        "id": "J0Ycv3SGgEIW",
        "colab_type": "code",
        "colab": {
          "base_uri": "https://localhost:8080/",
          "height": 34
        },
        "outputId": "67352ba6-c315-4e11-c299-b7ef58e67475"
      },
      "source": [
        "print(my_clone.github_user, my_clone.github_email)"
      ],
      "execution_count": 8,
      "outputs": [
        {
          "output_type": "stream",
          "text": [
            "jordanml7 lueck.jordan@gmail.com\n"
          ],
          "name": "stdout"
        }
      ]
    },
    {
      "cell_type": "markdown",
      "metadata": {
        "id": "OIkyAs3JgPma",
        "colab_type": "text"
      },
      "source": [
        "Finally, although you've probably seen it in the `Files` sidebar by now (if not, click `REFRESH`), let's confirm that our repo is now in our Colab environment:"
      ]
    },
    {
      "cell_type": "code",
      "metadata": {
        "id": "aozNaTTXgd4s",
        "colab_type": "code",
        "colab": {
          "base_uri": "https://localhost:8080/",
          "height": 34
        },
        "outputId": "654680a4-0730-4424-9a2e-08e741a1c9aa"
      },
      "source": [
        "!ls /content/"
      ],
      "execution_count": 9,
      "outputs": [
        {
          "output_type": "stream",
          "text": [
            "colab-repoclone  gdrive  sample_data\n"
          ],
          "name": "stdout"
        }
      ]
    },
    {
      "cell_type": "markdown",
      "metadata": {
        "id": "vhr-bhtggg2M",
        "colab_type": "text"
      },
      "source": [
        "There it is, `colab-repoclone` (or your own repo if you've changed it)! Wooo!\n",
        "\n",
        "Now you can make any changes you want to the files in `colab-repoclone`, including adding and deleting files. Since this is an empty directory, let's create a dummy file that we'll throw in there:"
      ]
    },
    {
      "cell_type": "code",
      "metadata": {
        "id": "33Ldgu6egqLp",
        "colab_type": "code",
        "colab": {}
      },
      "source": [
        "dummy = open(\"dummy.txt\",\"w+\")\n",
        "\n",
        "for i in range(10):\n",
        "     dummy.write(\"This is test!\\n\")\n",
        "    \n",
        "dummy.close()"
      ],
      "execution_count": 0,
      "outputs": []
    },
    {
      "cell_type": "markdown",
      "metadata": {
        "id": "vDDv7XxuiHXC",
        "colab_type": "text"
      },
      "source": [
        "And now that we've made that *very* import file, let's move it into our repository:"
      ]
    },
    {
      "cell_type": "code",
      "metadata": {
        "id": "WcSbK4soiQZ7",
        "colab_type": "code",
        "colab": {}
      },
      "source": [
        "!mv /content/dummy.txt /content/colab-repoclone/.\n",
        "\n",
        "# Obviously you may have to change the path here if you're using your own repo"
      ],
      "execution_count": 0,
      "outputs": []
    },
    {
      "cell_type": "markdown",
      "metadata": {
        "id": "SoEXf8i-l9ym",
        "colab_type": "text"
      },
      "source": [
        "Let's confirm that it's in there:"
      ]
    },
    {
      "cell_type": "code",
      "metadata": {
        "id": "yQtd9eTOl_kq",
        "colab_type": "code",
        "colab": {
          "base_uri": "https://localhost:8080/",
          "height": 34
        },
        "outputId": "9e434dca-4260-4b16-b16a-ebf5cfa61075"
      },
      "source": [
        "!ls /content/colab-repoclone/"
      ],
      "execution_count": 12,
      "outputs": [
        {
          "output_type": "stream",
          "text": [
            "dummy.txt\n"
          ],
          "name": "stdout"
        }
      ]
    },
    {
      "cell_type": "markdown",
      "metadata": {
        "id": "8UoeQarBin8Q",
        "colab_type": "text"
      },
      "source": [
        "There it is! We can now push our changes using `colab_repoclone`'s own `push` method!\n",
        "\n",
        "If you're using the `colab-repoclone` repository, this will not work for you, as you do not have permission to push to it. Instead, you'll likely get a message saying:\n",
        "\n",
        "`Command: < git push > failed. Check your permissions.`\n",
        "\n",
        "But that's not a problem for me, because I *do* have permissions! The `push` method allows for two keywords: `commit_msg`, which is pretty self explanatory (if you do not supply one, you will be prompted for one), and `file_path`, which can be used to specify that you only want to push files in a certain directory *within* your repo. This defaults to all files, i.e. `\".\"`\n",
        "\n",
        "Let's try it:"
      ]
    },
    {
      "cell_type": "code",
      "metadata": {
        "id": "-2gggoFKjRUH",
        "colab_type": "code",
        "colab": {
          "base_uri": "https://localhost:8080/",
          "height": 136
        },
        "outputId": "87e77da4-9300-4407-ff85-0cac10c91f7f"
      },
      "source": [
        "my_clone.push(commit_msg=\"Pushing to a repo from INSIDE the repo, meta...\")"
      ],
      "execution_count": 13,
      "outputs": [
        {
          "output_type": "stream",
          "text": [
            "\n",
            "        *************************************************************\n",
            "        * Are you sure you want to push your changes?               *\n",
            "        *                                                           *\n",
            "        * Press \"q\" to abort. Press any other key to continue...    *\n",
            "        *************************************************************\n",
            "        \n"
          ],
          "name": "stdout"
        }
      ]
    },
    {
      "cell_type": "markdown",
      "metadata": {
        "id": "eobH4bBpkTL0",
        "colab_type": "text"
      },
      "source": [
        "Well, I didn't get any error messages, but you may have!\n",
        "\n",
        "Now, because I don't want a stupid dummy file in my lovely empty repository (and because this tutorial relies on that file not existing initially), lets move `dummy.txt` out of this repo and push again!"
      ]
    },
    {
      "cell_type": "code",
      "metadata": {
        "id": "5nR5ots3kllX",
        "colab_type": "code",
        "colab": {}
      },
      "source": [
        "!mv /content/colab-repoclone/dummy.txt /content/."
      ],
      "execution_count": 0,
      "outputs": []
    },
    {
      "cell_type": "code",
      "metadata": {
        "id": "8GMPB45WluUc",
        "colab_type": "code",
        "colab": {}
      },
      "source": [
        "!ls /content/colab-repoclone/"
      ],
      "execution_count": 0,
      "outputs": []
    },
    {
      "cell_type": "markdown",
      "metadata": {
        "id": "5icygdeYmTHS",
        "colab_type": "text"
      },
      "source": [
        "And voila, it's gone."
      ]
    },
    {
      "cell_type": "code",
      "metadata": {
        "id": "WDi9KaXBk6yc",
        "colab_type": "code",
        "colab": {
          "base_uri": "https://localhost:8080/",
          "height": 136
        },
        "outputId": "9ab0c74f-e1a5-4641-d495-28e4cdd07ba3"
      },
      "source": [
        "my_clone.push(commit_msg=\"Annnddddd now its gone.\")"
      ],
      "execution_count": 16,
      "outputs": [
        {
          "output_type": "stream",
          "text": [
            "\n",
            "        *************************************************************\n",
            "        * Are you sure you want to push your changes?               *\n",
            "        *                                                           *\n",
            "        * Press \"q\" to abort. Press any other key to continue...    *\n",
            "        *************************************************************\n",
            "        \n"
          ],
          "name": "stdout"
        }
      ]
    },
    {
      "cell_type": "markdown",
      "metadata": {
        "id": "GoHcJ362eZWh",
        "colab_type": "text"
      },
      "source": [
        "## Initializing a new repository\n",
        "\n",
        "Now let's explore creating a new local directory, initializing it as a Git repo, and pushing it to GitHub.\n"
      ]
    },
    {
      "cell_type": "markdown",
      "metadata": {
        "id": "BDx1tbOVHJ0V",
        "colab_type": "text"
      },
      "source": [
        "First we have to create a local folder & put that dummy file from earlier into it."
      ]
    },
    {
      "cell_type": "code",
      "metadata": {
        "id": "gN8wOlv4gDm-",
        "colab_type": "code",
        "colab": {}
      },
      "source": [
        "!mkdir /content/my_new_repo\n",
        "!mv /content/dummy.txt /content/my_new_repo/."
      ],
      "execution_count": 0,
      "outputs": []
    },
    {
      "cell_type": "markdown",
      "metadata": {
        "id": "xZ4BfCeMgC6c",
        "colab_type": "text"
      },
      "source": [
        "As before, we will use the `local_repository` method. The input is the link to the *existing* and yet empty repository on GitHub. I've made one on my personal GitHub account called `repo_init_testing`, that, again, you will not have push permissions for.\n",
        "\n",
        "When you run the following command, you will be prompted for the name of the directory you wish to initialize. In this case, it's `my_new_repo`.\n",
        "\n",
        "Since you do not have push permissions for my repo, unless you change it to one of your own, you will likely recieve the following warning upon executing this code:\n",
        "\n",
        "`Command: < git push --set-upstream origin master > failed. Check your permissions.`"
      ]
    },
    {
      "cell_type": "code",
      "metadata": {
        "id": "tBCPDsBBenK2",
        "colab_type": "code",
        "colab": {
          "base_uri": "https://localhost:8080/",
          "height": 34
        },
        "outputId": "f4c0a5c6-b90a-4c9a-aedf-c4d13b464c10"
      },
      "source": [
        "my_init = colab_repoclone.local_repository(\"https://github.com/jordanml7/repo_init_testing.git\",clone=False)\n",
        "\n",
        "# NB: This time I have not included the \"branch\" and \"auth_method\" keywords as \n",
        "# branch will always default to \"master\" for initializing a new repo and I\n",
        "# already have my credentials set in my environment"
      ],
      "execution_count": 18,
      "outputs": [
        {
          "output_type": "stream",
          "text": [
            "Local Repository :: my_new_repo\n"
          ],
          "name": "stdout"
        }
      ]
    },
    {
      "cell_type": "markdown",
      "metadata": {
        "id": "AYtMqlTChKT7",
        "colab_type": "text"
      },
      "source": [
        "Running the above will commit and push whatever files are in your new directory, `my_new_repo`, with the commit message \"First Commit from Google Colab\".\n",
        "\n",
        "As above, you can now create new files, delete files, and modify existing files within this directory at will, then use the `push` method to upload any changes!\n",
        "\n",
        "For now, let's remove the `dummy.txt` file we just added to our repository and push that changes."
      ]
    },
    {
      "cell_type": "code",
      "metadata": {
        "id": "JlTUGfY5hFWn",
        "colab_type": "code",
        "colab": {}
      },
      "source": [
        "!mv /content/my_new_repo/dummy.txt /content/."
      ],
      "execution_count": 0,
      "outputs": []
    },
    {
      "cell_type": "code",
      "metadata": {
        "id": "siLDzuvBiIuH",
        "colab_type": "code",
        "colab": {
          "base_uri": "https://localhost:8080/",
          "height": 136
        },
        "outputId": "d842ee77-99eb-4f7a-ea33-f1e1919fd4d0"
      },
      "source": [
        "my_init.push(commit_msg=\"Wooosshhh!\")"
      ],
      "execution_count": 20,
      "outputs": [
        {
          "output_type": "stream",
          "text": [
            "\n",
            "        *************************************************************\n",
            "        * Are you sure you want to push your changes?               *\n",
            "        *                                                           *\n",
            "        * Press \"q\" to abort. Press any other key to continue...    *\n",
            "        *************************************************************\n",
            "        \n"
          ],
          "name": "stdout"
        }
      ]
    },
    {
      "cell_type": "markdown",
      "metadata": {
        "id": "n5_Z8KHOGmie",
        "colab_type": "text"
      },
      "source": [
        "## Other features\n",
        "\n",
        "The latest version off this package includes four methods not described above - let's explore those."
      ]
    },
    {
      "cell_type": "markdown",
      "metadata": {
        "id": "GmRvq69IHGl6",
        "colab_type": "text"
      },
      "source": [
        "The first is `pull`, which allows you to pull changes to your repo if any were made elsewhere while you were running your notebook. Since all runtimes reset upon each load a notebook, you will need to \"reclone\" your repo each time you open and run your Colab notebook, so pulling will rarely be necessary.\n",
        "\n",
        "We can try it on our clone `colab-repoclone` from earlier, but it won't do much since no new files were added to the `testbed` branch externally..."
      ]
    },
    {
      "cell_type": "code",
      "metadata": {
        "id": "Hll1GBcqHaoo",
        "colab_type": "code",
        "colab": {}
      },
      "source": [
        "my_clone.pull()"
      ],
      "execution_count": 0,
      "outputs": []
    },
    {
      "cell_type": "markdown",
      "metadata": {
        "id": "1S3GJ-D7H0O6",
        "colab_type": "text"
      },
      "source": [
        "We can also create a new branch after cloning or initializing a new repository, using the `new_branch` method.\n",
        "\n",
        "This method takes a single keyword, the name of the branch you wish to create. If you do not enter one you will be prompted to do so. The specified branch is then created and checked-out. The correct upstream for future pushes from this branch is then set.\n",
        "\n",
        "Let's try it:"
      ]
    },
    {
      "cell_type": "code",
      "metadata": {
        "id": "OoJB9vv8HzVs",
        "colab_type": "code",
        "colab": {
          "base_uri": "https://localhost:8080/",
          "height": 34
        },
        "outputId": "0fa416ac-9fe3-4731-b427-0ce65e3f2970"
      },
      "source": [
        "my_clone.new_branch()"
      ],
      "execution_count": 22,
      "outputs": [
        {
          "output_type": "stream",
          "text": [
            "New Branch :: exciting_new_branch\n"
          ],
          "name": "stdout"
        }
      ]
    },
    {
      "cell_type": "markdown",
      "metadata": {
        "id": "WmdIQpxaL9Nm",
        "colab_type": "text"
      },
      "source": [
        "Let's confirm that we're now in our new branch:"
      ]
    },
    {
      "cell_type": "code",
      "metadata": {
        "id": "ffo3eKDoMFZx",
        "colab_type": "code",
        "colab": {
          "base_uri": "https://localhost:8080/",
          "height": 34
        },
        "outputId": "e622295b-e14b-489f-ba32-2aaa4019ebec"
      },
      "source": [
        "my_clone.branch"
      ],
      "execution_count": 25,
      "outputs": [
        {
          "output_type": "execute_result",
          "data": {
            "text/plain": [
              "'exciting_new_branch'"
            ]
          },
          "metadata": {
            "tags": []
          },
          "execution_count": 25
        }
      ]
    },
    {
      "cell_type": "markdown",
      "metadata": {
        "id": "3Nk934K8LpVl",
        "colab_type": "text"
      },
      "source": [
        "*Very* exciting!\n",
        "\n",
        "Now, because we love our `dummy.txt` file so much, let's add it to our new branch:"
      ]
    },
    {
      "cell_type": "code",
      "metadata": {
        "id": "EKJCx_o_LYBO",
        "colab_type": "code",
        "colab": {}
      },
      "source": [
        "!mv /content/dummy.txt /content/colab-repoclone/."
      ],
      "execution_count": 0,
      "outputs": []
    },
    {
      "cell_type": "code",
      "metadata": {
        "id": "_-nZ9A17L0rQ",
        "colab_type": "code",
        "colab": {
          "base_uri": "https://localhost:8080/",
          "height": 136
        },
        "outputId": "2022cabc-3812-4711-b9dc-24c9ef5eb6e0"
      },
      "source": [
        "my_clone.push(commit_msg=\"Branches 4 Dayz\")"
      ],
      "execution_count": 26,
      "outputs": [
        {
          "output_type": "stream",
          "text": [
            "\n",
            "        *************************************************************\n",
            "        * Are you sure you want to push your changes?               *\n",
            "        *                                                           *\n",
            "        * Press \"q\" to abort. Press any other key to continue...    *\n",
            "        *************************************************************\n",
            "        \n"
          ],
          "name": "stdout"
        }
      ]
    },
    {
      "cell_type": "markdown",
      "metadata": {
        "id": "NnHut8ymMh_-",
        "colab_type": "text"
      },
      "source": [
        "That seemed to work for me! Again, the whole permissions mumbo-jumbo applies, so either accept your fate or replace all these repositories with your own!\n",
        "\n",
        "Now let's get rid of it just to keep things clean..."
      ]
    },
    {
      "cell_type": "code",
      "metadata": {
        "id": "NmPtHZNQPaED",
        "colab_type": "code",
        "colab": {}
      },
      "source": [
        "!rm /content/colab-repoclone/dummy.txt"
      ],
      "execution_count": 0,
      "outputs": []
    },
    {
      "cell_type": "code",
      "metadata": {
        "id": "5RE60SbxPhNU",
        "colab_type": "code",
        "colab": {
          "base_uri": "https://localhost:8080/",
          "height": 136
        },
        "outputId": "4a32a3dd-cfd4-4121-a4b9-dc79bd715399"
      },
      "source": [
        "my_clone.push(commit_msg=\"Anybody feel like we have been here before?\")"
      ],
      "execution_count": 39,
      "outputs": [
        {
          "output_type": "stream",
          "text": [
            "\n",
            "        *************************************************************\n",
            "        * Are you sure you want to push your changes?               *\n",
            "        *                                                           *\n",
            "        * Press \"q\" to abort. Press any other key to continue...    *\n",
            "        *************************************************************\n",
            "        \n"
          ],
          "name": "stdout"
        }
      ]
    },
    {
      "cell_type": "markdown",
      "metadata": {
        "id": "d69uiSZQMqoZ",
        "colab_type": "text"
      },
      "source": [
        "This leads us nicely into the third cool new method, `checkout`. Pretty self explanatory. This method also takes a single keyword, the name of the *existing* branch you wish to checkout.\n",
        "\n",
        "Let's checkout our `testbed` branch again:"
      ]
    },
    {
      "cell_type": "code",
      "metadata": {
        "id": "uMKbnbjFM73x",
        "colab_type": "code",
        "colab": {
          "base_uri": "https://localhost:8080/",
          "height": 34
        },
        "outputId": "329eeeaf-fbd9-4367-e281-30986c591442"
      },
      "source": [
        "my_clone.checkout()"
      ],
      "execution_count": 40,
      "outputs": [
        {
          "output_type": "stream",
          "text": [
            "Checkout Branch :: testbed\n"
          ],
          "name": "stdout"
        }
      ]
    },
    {
      "cell_type": "markdown",
      "metadata": {
        "id": "vctfpTFjM-lh",
        "colab_type": "text"
      },
      "source": [
        "Let's confirm it worked..."
      ]
    },
    {
      "cell_type": "code",
      "metadata": {
        "id": "OekfOY1RNAi3",
        "colab_type": "code",
        "colab": {
          "base_uri": "https://localhost:8080/",
          "height": 34
        },
        "outputId": "8cf63ef0-1711-4def-8c61-259a3f6fd63b"
      },
      "source": [
        "my_clone.branch"
      ],
      "execution_count": 41,
      "outputs": [
        {
          "output_type": "execute_result",
          "data": {
            "text/plain": [
              "'testbed'"
            ]
          },
          "metadata": {
            "tags": []
          },
          "execution_count": 41
        }
      ]
    },
    {
      "cell_type": "markdown",
      "metadata": {
        "id": "MJVtDDLfNDhm",
        "colab_type": "text"
      },
      "source": [
        "Bazinga!"
      ]
    },
    {
      "cell_type": "markdown",
      "metadata": {
        "id": "MG6RGUTANFII",
        "colab_type": "text"
      },
      "source": [
        "Last, but not least, we have `reset`. This method will perform a *hard* reset of your repository to a specific previous commit, passed as a keyword. If no commit ID is passed, it will default to rolling-back to the last commit.\n",
        "\n",
        "Be careful with this one! It will wipe any changes you have made since the specified commit. And not just locally, but on GitHub as well :O\n",
        "\n",
        "For demonstration purposes, I'm gonna roll our `testbed` repo waaayyyy back. A bunch of files will appear, old versions of what's currently in `master`."
      ]
    },
    {
      "cell_type": "code",
      "metadata": {
        "id": "85F0nMuvOCCO",
        "colab_type": "code",
        "colab": {
          "base_uri": "https://localhost:8080/",
          "height": 221
        },
        "outputId": "0c807360-4204-469a-ae85-3b176dd248af"
      },
      "source": [
        "my_clone.reset(commit=\"ca0ec747dbbed7da681b58d4c9fa6ca6cfd8c818\")"
      ],
      "execution_count": 54,
      "outputs": [
        {
          "output_type": "stream",
          "text": [
            "\n",
            "        *****************************************************************\n",
            "        *                         !! CAUTION !!                         *\n",
            "        *                                                               *\n",
            "        * Are you sure you want to rollback to a previous commit?       *\n",
            "        *                                                               *\n",
            "        * This is a hard reset, meaning all commits between the current *\n",
            "        * and the one you are rolling back to will be lost.             *\n",
            "        *                                                               *\n",
            "        * Press \"q\" to abort. Press any other key to continue...        *\n",
            "        *****************************************************************\n",
            "        \n"
          ],
          "name": "stdout"
        }
      ]
    },
    {
      "cell_type": "code",
      "metadata": {
        "id": "pswHft9_QdVG",
        "colab_type": "code",
        "colab": {
          "base_uri": "https://localhost:8080/",
          "height": 51
        },
        "outputId": "c02da512-946c-4ea2-c461-c8806597c22a"
      },
      "source": [
        "!ls /content/colab-repoclone/"
      ],
      "execution_count": 61,
      "outputs": [
        {
          "output_type": "stream",
          "text": [
            "CHANGELOG.md\t dummy.txt  MANIFEST.in  README.md\n",
            "colab_repoclone  LICENSE    Pipfile\t setup.py\n"
          ],
          "name": "stdout"
        }
      ]
    },
    {
      "cell_type": "markdown",
      "metadata": {
        "id": "84A4R2yUScjK",
        "colab_type": "text"
      },
      "source": [
        "Look at all those files! Where'd they come from? We're still in `testbed`..."
      ]
    },
    {
      "cell_type": "code",
      "metadata": {
        "id": "mDmrpqoRSiDj",
        "colab_type": "code",
        "colab": {
          "base_uri": "https://localhost:8080/",
          "height": 34
        },
        "outputId": "957824ff-2699-4e92-c9ea-4b5cacd4df6a"
      },
      "source": [
        "my_clone.branch"
      ],
      "execution_count": 62,
      "outputs": [
        {
          "output_type": "execute_result",
          "data": {
            "text/plain": [
              "'testbed'"
            ]
          },
          "metadata": {
            "tags": []
          },
          "execution_count": 62
        }
      ]
    },
    {
      "cell_type": "markdown",
      "metadata": {
        "id": "8qTrrvJcSjuv",
        "colab_type": "text"
      },
      "source": [
        "... we've just rolled back to before all the bajillion pushes we made above *were* made!\n",
        "\n",
        "Let's do some cleaning up of `testbed` (we'll use the `git rm` command as it won't mess with our `.git` file):"
      ]
    },
    {
      "cell_type": "code",
      "metadata": {
        "id": "MaGneHu7T71B",
        "colab_type": "code",
        "colab": {
          "base_uri": "https://localhost:8080/",
          "height": 153
        },
        "outputId": "3b5ac080-618e-45e3-dca2-a6e828fbf707"
      },
      "source": [
        "!git rm -r /content/colab-repoclone/*"
      ],
      "execution_count": 67,
      "outputs": [
        {
          "output_type": "stream",
          "text": [
            "rm 'CHANGELOG.md'\n",
            "rm 'LICENSE'\n",
            "rm 'MANIFEST.in'\n",
            "rm 'Pipfile'\n",
            "rm 'README.md'\n",
            "rm 'colab_repoclone/__init__.py'\n",
            "rm 'colab_repoclone/git_access.py'\n",
            "rm 'setup.py'\n"
          ],
          "name": "stdout"
        }
      ]
    },
    {
      "cell_type": "markdown",
      "metadata": {
        "id": "rwNzwLb4U0kO",
        "colab_type": "text"
      },
      "source": [
        "And let's push our changes so `testbed` is all nice & empty:"
      ]
    },
    {
      "cell_type": "code",
      "metadata": {
        "id": "Y_NGA24KU3-q",
        "colab_type": "code",
        "colab": {
          "base_uri": "https://localhost:8080/",
          "height": 136
        },
        "outputId": "3c8f1837-c744-4fd1-a16c-017137d569eb"
      },
      "source": [
        "my_clone.push(commit_msg=\"What a wild ride its been\")"
      ],
      "execution_count": 68,
      "outputs": [
        {
          "output_type": "stream",
          "text": [
            "\n",
            "        *************************************************************\n",
            "        * Are you sure you want to push your changes?               *\n",
            "        *                                                           *\n",
            "        * Press \"q\" to abort. Press any other key to continue...    *\n",
            "        *************************************************************\n",
            "        \n"
          ],
          "name": "stdout"
        }
      ]
    },
    {
      "cell_type": "markdown",
      "metadata": {
        "id": "E_Ph1lebie7U",
        "colab_type": "text"
      },
      "source": [
        "And as some final cleaning up, let's just wipe all the new directories we've created:"
      ]
    },
    {
      "cell_type": "code",
      "metadata": {
        "id": "JxZht4GviU6X",
        "colab_type": "code",
        "colab": {}
      },
      "source": [
        "!rm -rf colab-repoclone\n",
        "!rm -rf my_new_repo"
      ],
      "execution_count": 0,
      "outputs": []
    },
    {
      "cell_type": "markdown",
      "metadata": {
        "id": "tpyjgLbaoONF",
        "colab_type": "text"
      },
      "source": [
        "Well that was satisfying. Have fun and feel free to email me with questions or if you'd like to see any new functionality in a future release!"
      ]
    }
  ]
}